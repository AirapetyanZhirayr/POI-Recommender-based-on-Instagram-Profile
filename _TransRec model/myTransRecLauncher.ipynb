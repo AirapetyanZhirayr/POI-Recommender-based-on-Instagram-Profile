{
 "cells": [
  {
   "cell_type": "code",
   "execution_count": 1,
   "metadata": {
    "id": "0LGNbnu2U7lG"
   },
   "outputs": [],
   "source": [
    "%load_ext autoreload\n",
    "%autoreload 2"
   ]
  },
  {
   "cell_type": "code",
   "execution_count": 5,
   "metadata": {
    "id": "H3secMTMSzcw"
   },
   "outputs": [],
   "source": [
    "import pandas as pd\n",
    "df_cutted = pd.read_csv('../data/df_cutted.csv')"
   ]
  },
  {
   "cell_type": "code",
   "execution_count": 7,
   "metadata": {
    "id": "ZcYG7333KsMX"
   },
   "outputs": [],
   "source": [
    "from tqdm import tqdm\n",
    "import numpy as np\n",
    "\n",
    "from myTransRec import TransRec\n",
    "from utils import train_test_split, preprocess_data, get_batches\n",
    "from torch import nn\n",
    "import torch.optim as optim\n",
    "import torch\n",
    "from torch.autograd import Variable"
   ]
  },
  {
   "cell_type": "code",
   "execution_count": 8,
   "metadata": {
    "id": "W3e3aVPtSfT5"
   },
   "outputs": [],
   "source": [
    "dfPath = '../data/df_cutted.csv'\n",
    "data, id2user, user2id, id2poi, poi2id = preprocess_data(dfPath)\n",
    "n_users = len(id2user); n_poi = len(id2poi)\n",
    "\n",
    "train_data, test_data, train_POIs = train_test_split(data)\n",
    "\n",
    "n_pairs = sum(map(len, train_data.values()))"
   ]
  },
  {
   "cell_type": "code",
   "execution_count": 10,
   "metadata": {
    "id": "pZTHGRBcTtYA"
   },
   "outputs": [
    {
     "name": "stdout",
     "output_type": "stream",
     "text": [
      "TRAIN SIZE: 19071744\n",
      "NUMBER of BATCHES: 18624\n"
     ]
    }
   ],
   "source": [
    "EMBEDDING_DIM = 30\n",
    "LEARNING_RATE = 0.001\n",
    "EPOCHS = 1\n",
    "BATCH_SIZE = 1024\n",
    "LAMBDA = 0.05*0\n",
    "NUM_SAMPLED = 256\n",
    "CUDA =  True\n",
    "print(f'TRAIN SIZE: {n_pairs*NUM_SAMPLED}')\n",
    "batch_num = n_pairs*NUM_SAMPLED // BATCH_SIZE\n",
    "print(f'NUMBER of BATCHES: {batch_num}')"
   ]
  },
  {
   "cell_type": "code",
   "execution_count": 11,
   "metadata": {
    "id": "zAAwzSRqKYI9"
   },
   "outputs": [],
   "source": [
    "def testHit(k):\n",
    "    hit_k = []\n",
    "    users = np.random.randint(0, n_users, 2500)\n",
    "    for user in users:\n",
    "        prev, ground = test_data[user][0]\n",
    "        hit_k.append(ground in model.predict(user, prev)[:k])\n",
    "    return np.array(hit_k).mean()"
   ]
  },
  {
   "cell_type": "code",
   "execution_count": 13,
   "metadata": {
    "id": "YCAJv2F1T8bq"
   },
   "outputs": [],
   "source": [
    "model = TransRec(EMBEDDING_DIM, user2id, id2user, poi2id, id2poi, _cuda=CUDA).cuda()\n",
    "criterion = nn.LogSigmoid()"
   ]
  },
  {
   "cell_type": "code",
   "execution_count": 9,
   "metadata": {
    "id": "nz_Bi41rPPCc"
   },
   "outputs": [],
   "source": [
    "optimizer = optim.Adam(model.parameters(), lr=LEARNING_RATE, weight_decay=LAMBDA)"
   ]
  },
  {
   "cell_type": "code",
   "execution_count": null,
   "metadata": {
    "id": "nasMnenDUy-1"
   },
   "outputs": [],
   "source": [
    "for i in range(EPOCHS):\n",
    "\n",
    "    batches = get_batches(train_data, train_POIs, BATCH_SIZE, NUM_SAMPLED, n_poi)\n",
    "    step = 0\n",
    "    loss = .0\n",
    "    for batch in batches:\n",
    "        if CUDA:\n",
    "            user_id, prev_id, pos_id, neg_id = map(lambda x: Variable(torch.cuda.LongTensor(x)), batch)\n",
    "        else:\n",
    "            user_id, prev_id, pos_id, neg_id = map(torch.LongTensor, batch)\n",
    "\n",
    "        optimizer.zero_grad()\n",
    "        objective = model(user_id, prev_id, pos_id, neg_id)\n",
    "        _loss = - criterion(objective).sum()\n",
    "        _loss.backward()\n",
    "        optimizer.step()\n",
    "        if CUDA:\n",
    "            loss+=_loss.cpu().data.numpy()\n",
    "        else:\n",
    "            loss+=_loss.data.numpy()\n",
    "\n",
    "        step+=1\n",
    "        # if step%200 == 0:\n",
    "        #     print(\"Epoch: [{}/{}] Batch: [{}/{}]\".format(i+1, EPOCHS, step, batch_num))\n",
    "    print(\"At Epoch: [{}/{}] [Loss]: [{}]\\n\".format(i+1, EPOCHS, loss))\n",
    "    k=20\n",
    "    print(f'Test Hit@{k}: {testHit(k)}')"
   ]
  },
  {
   "cell_type": "code",
   "execution_count": 43,
   "metadata": {
    "id": "hEkZAZ7qOWry"
   },
   "outputs": [],
   "source": [
    "loc_count = df_cutted.groupby('location')['user'].apply(len).to_dict()\n",
    "loc_count = [(loc, count) for loc, count in loc_count.items()]\n",
    "top_loc = list(map(lambda x: poi2id[x[0]] ,sorted(loc_count, key=lambda x: x[1], reverse=True)))"
   ]
  },
  {
   "cell_type": "code",
   "execution_count": 65,
   "metadata": {
    "colab": {
     "base_uri": "https://localhost:8080/"
    },
    "id": "33NqvvvdWQwY",
    "outputId": "86aecdca-7f73-4313-869f-7c1609062022"
   },
   "outputs": [
    {
     "name": "stderr",
     "output_type": "stream",
     "text": [
      "100%|██████████| 16275/16275 [00:15<00:00, 1031.66it/s]\n",
      "100%|██████████| 16275/16275 [00:15<00:00, 1030.80it/s]\n",
      "100%|██████████| 16275/16275 [00:15<00:00, 1030.99it/s]\n"
     ]
    }
   ],
   "source": [
    "# HIT@k\n",
    "results= []\n",
    "hits = [1, 5, 10]\n",
    "for k in hits:\n",
    "    hitTrans = []\n",
    "    hitPop = []\n",
    "    for user in tqdm(test_data):\n",
    "\n",
    "        prev, ground = test_data[user][0]\n",
    "        hitTrans.append(ground in model.predict(user, prev)[:k])\n",
    "        hitPop.append(ground in top_loc[:k])\n",
    "\n",
    "    trans_results = (np.array(hitTrans).mean())\n",
    "    pop_results = (np.array(hitPop).mean())\n",
    "    \n",
    "    results.append((trans_results, pop_results))"
   ]
  },
  {
   "cell_type": "code",
   "execution_count": 66,
   "metadata": {
    "colab": {
     "base_uri": "https://localhost:8080/",
     "height": 265
    },
    "id": "g2qCcPOJPxFT",
    "outputId": "133b9c88-6dc2-4b7f-a123-983348c511a0"
   },
   "outputs": [
    {
     "data": {
      "image/png": "[encoded data removed]",
      "text/plain": [
       "<Figure size 432x288 with 1 Axes>"
      ]
     },
     "metadata": {
      "needs_background": "light",
      "tags": []
     },
     "output_type": "display_data"
    }
   ],
   "source": [
    "trans, pop = list(zip(*results))\n",
    "import matplotlib.pyplot as plt\n",
    "\n",
    "plt.plot(trans, label='Trans Recommender')\n",
    "plt.plot(pop, label='Popularity model')\n",
    "plt.legend();"
   ]
  },
  {
   "cell_type": "code",
   "execution_count": 67,
   "metadata": {
    "colab": {
     "base_uri": "https://localhost:8080/"
    },
    "id": "e_IsgTRLQxT5",
    "outputId": "3a00b018-70d9-4ef0-f79d-6deb985af9e1"
   },
   "outputs": [
    {
     "data": {
      "text/plain": [
       "(0.05327188940092166, 0.17738863287250384, 0.2764362519201229)"
      ]
     },
     "execution_count": 67,
     "metadata": {
      "tags": []
     },
     "output_type": "execute_result"
    }
   ],
   "source": [
    "trans"
   ]
  },
  {
   "cell_type": "code",
   "execution_count": 68,
   "metadata": {
    "colab": {
     "base_uri": "https://localhost:8080/"
    },
    "id": "tVXgaOdGQoFp",
    "outputId": "f9502c67-4c9b-42d5-d2f9-74ae87839c9f"
   },
   "outputs": [
    {
     "data": {
      "text/plain": [
       "(0.03877112135176651, 0.12202764976958526, 0.1765284178187404)"
      ]
     },
     "execution_count": 68,
     "metadata": {
      "tags": []
     },
     "output_type": "execute_result"
    }
   ],
   "source": [
    "pop"
   ]
  }
 ],
 "metadata": {
  "accelerator": "GPU",
  "colab": {
   "collapsed_sections": [],
   "name": "myTransRecLauncher.ipynb",
   "provenance": []
  },
  "kernelspec": {
   "display_name": "Python 3",
   "language": "python",
   "name": "python3"
  },
  "language_info": {
   "codemirror_mode": {
    "name": "ipython",
    "version": 3
   },
   "file_extension": ".py",
   "mimetype": "text/x-python",
   "name": "python",
   "nbconvert_exporter": "python",
   "pygments_lexer": "ipython3",
   "version": "3.8.4"
  }
 },
 "nbformat": 4,
 "nbformat_minor": 1
}
